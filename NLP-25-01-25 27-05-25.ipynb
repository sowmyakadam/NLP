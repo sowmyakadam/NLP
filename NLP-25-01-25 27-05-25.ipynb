{
 "cells": [
  {
   "cell_type": "code",
   "execution_count": 1,
   "id": "ee43469b",
   "metadata": {},
   "outputs": [],
   "source": [
    "import pandas as pd\n",
    "import matplotlib.pyplot as plt\n",
    "import numpy as np"
   ]
  },
  {
   "cell_type": "code",
   "execution_count": 2,
   "id": "f1fae28c",
   "metadata": {},
   "outputs": [
    {
     "data": {
      "text/html": [
       "<div>\n",
       "<style scoped>\n",
       "    .dataframe tbody tr th:only-of-type {\n",
       "        vertical-align: middle;\n",
       "    }\n",
       "\n",
       "    .dataframe tbody tr th {\n",
       "        vertical-align: top;\n",
       "    }\n",
       "\n",
       "    .dataframe thead th {\n",
       "        text-align: right;\n",
       "    }\n",
       "</style>\n",
       "<table border=\"1\" class=\"dataframe\">\n",
       "  <thead>\n",
       "    <tr style=\"text-align: right;\">\n",
       "      <th></th>\n",
       "      <th>Review</th>\n",
       "      <th>Rating</th>\n",
       "    </tr>\n",
       "  </thead>\n",
       "  <tbody>\n",
       "    <tr>\n",
       "      <th>0</th>\n",
       "      <td>nice hotel expensive parking got good deal sta...</td>\n",
       "      <td>4</td>\n",
       "    </tr>\n",
       "    <tr>\n",
       "      <th>1</th>\n",
       "      <td>ok nothing special charge diamond member hilto...</td>\n",
       "      <td>2</td>\n",
       "    </tr>\n",
       "    <tr>\n",
       "      <th>2</th>\n",
       "      <td>nice rooms not 4* experience hotel monaco seat...</td>\n",
       "      <td>3</td>\n",
       "    </tr>\n",
       "    <tr>\n",
       "      <th>3</th>\n",
       "      <td>unique, great stay, wonderful time hotel monac...</td>\n",
       "      <td>5</td>\n",
       "    </tr>\n",
       "    <tr>\n",
       "      <th>4</th>\n",
       "      <td>great stay great stay, went seahawk game aweso...</td>\n",
       "      <td>5</td>\n",
       "    </tr>\n",
       "  </tbody>\n",
       "</table>\n",
       "</div>"
      ],
      "text/plain": [
       "                                              Review  Rating\n",
       "0  nice hotel expensive parking got good deal sta...       4\n",
       "1  ok nothing special charge diamond member hilto...       2\n",
       "2  nice rooms not 4* experience hotel monaco seat...       3\n",
       "3  unique, great stay, wonderful time hotel monac...       5\n",
       "4  great stay great stay, went seahawk game aweso...       5"
      ]
     },
     "execution_count": 2,
     "metadata": {},
     "output_type": "execute_result"
    }
   ],
   "source": [
    "df=pd.read_csv('tripadvisor_hotel_reviews.csv', nrows=600)\n",
    "df.head()"
   ]
  },
  {
   "cell_type": "code",
   "execution_count": null,
   "id": "665ec712",
   "metadata": {},
   "outputs": [],
   "source": [
    "df['Rating'].value_counts()"
   ]
  },
  {
   "cell_type": "code",
   "execution_count": null,
   "id": "7b8376b1",
   "metadata": {},
   "outputs": [],
   "source": [
    "def ratings(rating):\n",
    "    if rating>3 and rating<=5:\n",
    "        return \"Positive\"\n",
    "    if rating>0 and rating<=3:\n",
    "        return \"Negative\""
   ]
  },
  {
   "cell_type": "code",
   "execution_count": null,
   "id": "72c428fa",
   "metadata": {},
   "outputs": [],
   "source": [
    "df['Rating']=df['Rating'].apply(ratings)"
   ]
  },
  {
   "cell_type": "code",
   "execution_count": null,
   "id": "e73f1bd1",
   "metadata": {},
   "outputs": [],
   "source": [
    "plt.pie(df['Rating'].value_counts(),labels=df['Rating'].unique().tolist(),autopct='%1.1f%%')\n",
    "plt.show()"
   ]
  },
  {
   "cell_type": "code",
   "execution_count": null,
   "id": "4eb99a61",
   "metadata": {},
   "outputs": [],
   "source": [
    "length=len(df['Review'][0])\n",
    "print(f'length of a sample review: {length}')"
   ]
  },
  {
   "cell_type": "code",
   "execution_count": null,
   "id": "4099a1e6",
   "metadata": {},
   "outputs": [],
   "source": [
    "df['Length']=df['Review'].str.len()\n",
    "df.head()"
   ]
  },
  {
   "cell_type": "code",
   "execution_count": null,
   "id": "94226b62",
   "metadata": {},
   "outputs": [],
   "source": [
    "word_count=df['Review'][0].split()\n",
    "print(f'Word count in a sample review: {len(word_count)}')"
   ]
  },
  {
   "cell_type": "code",
   "execution_count": null,
   "id": "6065b496",
   "metadata": {},
   "outputs": [],
   "source": [
    "def word_count(review):\n",
    "    review_list=review.split()\n",
    "    return len(review_list)"
   ]
  },
  {
   "cell_type": "code",
   "execution_count": null,
   "id": "4aed0e12",
   "metadata": {},
   "outputs": [],
   "source": [
    "df['Word_count']=df['Review'].apply(word_count)\n",
    "df.head()"
   ]
  },
  {
   "cell_type": "code",
   "execution_count": null,
   "id": "550b77f8",
   "metadata": {},
   "outputs": [],
   "source": [
    "df['mean_word_length']=df['Review'].map(lambda rev: np.mean([len(word) for word in rev.split()]))\n",
    "df.head()"
   ]
  },
  {
   "cell_type": "code",
   "execution_count": null,
   "id": "cd498cdd",
   "metadata": {},
   "outputs": [],
   "source": [
    "df.info()"
   ]
  },
  {
   "cell_type": "code",
   "execution_count": 8,
   "id": "d126aec5",
   "metadata": {
    "scrolled": true
   },
   "outputs": [],
   "source": [
    "import re\n",
    "from nltk.corpus import stopwords\n",
    "def clean(review):\n",
    "    review = review.lower()\n",
    "    review=re.sub('[^a-z A-Z 0-9-]+','',review)\n",
    "    review=\" \".join([word for word in review.split() if word not in stopwords.words('english')])\n",
    "    return review"
   ]
  },
  {
   "cell_type": "markdown",
   "id": "1cba3167",
   "metadata": {},
   "source": [
    "import nltk\n",
    "nltk.download('stopwords')\n"
   ]
  },
  {
   "cell_type": "code",
   "execution_count": 6,
   "id": "5caf3f62",
   "metadata": {},
   "outputs": [
    {
     "data": {
      "text/html": [
       "<div>\n",
       "<style scoped>\n",
       "    .dataframe tbody tr th:only-of-type {\n",
       "        vertical-align: middle;\n",
       "    }\n",
       "\n",
       "    .dataframe tbody tr th {\n",
       "        vertical-align: top;\n",
       "    }\n",
       "\n",
       "    .dataframe thead th {\n",
       "        text-align: right;\n",
       "    }\n",
       "</style>\n",
       "<table border=\"1\" class=\"dataframe\">\n",
       "  <thead>\n",
       "    <tr style=\"text-align: right;\">\n",
       "      <th></th>\n",
       "      <th>Review</th>\n",
       "      <th>Rating</th>\n",
       "    </tr>\n",
       "  </thead>\n",
       "  <tbody>\n",
       "    <tr>\n",
       "      <th>0</th>\n",
       "      <td>nice hotel expensive parking got good deal sta...</td>\n",
       "      <td>4</td>\n",
       "    </tr>\n",
       "    <tr>\n",
       "      <th>1</th>\n",
       "      <td>ok nothing special charge diamond member hilto...</td>\n",
       "      <td>2</td>\n",
       "    </tr>\n",
       "    <tr>\n",
       "      <th>2</th>\n",
       "      <td>nice rooms 4 experience hotel monaco seattle g...</td>\n",
       "      <td>3</td>\n",
       "    </tr>\n",
       "    <tr>\n",
       "      <th>3</th>\n",
       "      <td>unique great stay wonderful time hotel monaco ...</td>\n",
       "      <td>5</td>\n",
       "    </tr>\n",
       "    <tr>\n",
       "      <th>4</th>\n",
       "      <td>great stay great stay went seahawk game awesom...</td>\n",
       "      <td>5</td>\n",
       "    </tr>\n",
       "  </tbody>\n",
       "</table>\n",
       "</div>"
      ],
      "text/plain": [
       "                                              Review  Rating\n",
       "0  nice hotel expensive parking got good deal sta...       4\n",
       "1  ok nothing special charge diamond member hilto...       2\n",
       "2  nice rooms 4 experience hotel monaco seattle g...       3\n",
       "3  unique great stay wonderful time hotel monaco ...       5\n",
       "4  great stay great stay went seahawk game awesom...       5"
      ]
     },
     "execution_count": 6,
     "metadata": {},
     "output_type": "execute_result"
    }
   ],
   "source": [
    "df['Review']=df['Review'].apply(clean)\n",
    "df.head()"
   ]
  },
  {
   "cell_type": "code",
   "execution_count": 7,
   "id": "8a898b9a",
   "metadata": {},
   "outputs": [
    {
     "data": {
      "text/plain": [
       "'nice hotel expensive parking got good deal stay hotel anniversary arrived late evening took advice previous reviews valet parking check quick easy little disappointed non-existent view room room clean nice size bed comfortable woke stiff neck high pillows soundproof like heard music room night morning loud bangs doors opening closing hear people talking hallway maybe noisy neighbors aveda bath products nice goldfish stay nice touch taken advantage staying longer location great walking distance shopping overall nice experience pay 40 parking night'"
      ]
     },
     "execution_count": 7,
     "metadata": {},
     "output_type": "execute_result"
    }
   ],
   "source": [
    "df['Review'][0]"
   ]
  },
  {
   "cell_type": "code",
   "execution_count": 9,
   "id": "129bd3df",
   "metadata": {},
   "outputs": [],
   "source": [
    "def corpus(text):\n",
    "    text_list=text.split()\n",
    "    return text_list"
   ]
  },
  {
   "cell_type": "code",
   "execution_count": 10,
   "id": "39144a9a",
   "metadata": {},
   "outputs": [
    {
     "data": {
      "text/html": [
       "<div>\n",
       "<style scoped>\n",
       "    .dataframe tbody tr th:only-of-type {\n",
       "        vertical-align: middle;\n",
       "    }\n",
       "\n",
       "    .dataframe tbody tr th {\n",
       "        vertical-align: top;\n",
       "    }\n",
       "\n",
       "    .dataframe thead th {\n",
       "        text-align: right;\n",
       "    }\n",
       "</style>\n",
       "<table border=\"1\" class=\"dataframe\">\n",
       "  <thead>\n",
       "    <tr style=\"text-align: right;\">\n",
       "      <th></th>\n",
       "      <th>Review</th>\n",
       "      <th>Rating</th>\n",
       "      <th>Review_lists</th>\n",
       "    </tr>\n",
       "  </thead>\n",
       "  <tbody>\n",
       "    <tr>\n",
       "      <th>0</th>\n",
       "      <td>nice hotel expensive parking got good deal sta...</td>\n",
       "      <td>4</td>\n",
       "      <td>[nice, hotel, expensive, parking, got, good, d...</td>\n",
       "    </tr>\n",
       "    <tr>\n",
       "      <th>1</th>\n",
       "      <td>ok nothing special charge diamond member hilto...</td>\n",
       "      <td>2</td>\n",
       "      <td>[ok, nothing, special, charge, diamond, member...</td>\n",
       "    </tr>\n",
       "    <tr>\n",
       "      <th>2</th>\n",
       "      <td>nice rooms 4 experience hotel monaco seattle g...</td>\n",
       "      <td>3</td>\n",
       "      <td>[nice, rooms, 4, experience, hotel, monaco, se...</td>\n",
       "    </tr>\n",
       "    <tr>\n",
       "      <th>3</th>\n",
       "      <td>unique great stay wonderful time hotel monaco ...</td>\n",
       "      <td>5</td>\n",
       "      <td>[unique, great, stay, wonderful, time, hotel, ...</td>\n",
       "    </tr>\n",
       "    <tr>\n",
       "      <th>4</th>\n",
       "      <td>great stay great stay went seahawk game awesom...</td>\n",
       "      <td>5</td>\n",
       "      <td>[great, stay, great, stay, went, seahawk, game...</td>\n",
       "    </tr>\n",
       "  </tbody>\n",
       "</table>\n",
       "</div>"
      ],
      "text/plain": [
       "                                              Review  Rating  \\\n",
       "0  nice hotel expensive parking got good deal sta...       4   \n",
       "1  ok nothing special charge diamond member hilto...       2   \n",
       "2  nice rooms 4 experience hotel monaco seattle g...       3   \n",
       "3  unique great stay wonderful time hotel monaco ...       5   \n",
       "4  great stay great stay went seahawk game awesom...       5   \n",
       "\n",
       "                                        Review_lists  \n",
       "0  [nice, hotel, expensive, parking, got, good, d...  \n",
       "1  [ok, nothing, special, charge, diamond, member...  \n",
       "2  [nice, rooms, 4, experience, hotel, monaco, se...  \n",
       "3  [unique, great, stay, wonderful, time, hotel, ...  \n",
       "4  [great, stay, great, stay, went, seahawk, game...  "
      ]
     },
     "execution_count": 10,
     "metadata": {},
     "output_type": "execute_result"
    }
   ],
   "source": [
    "df['Review_lists']=df['Review'].apply(corpus)\n",
    "df.head()"
   ]
  },
  {
   "cell_type": "code",
   "execution_count": 11,
   "id": "afd81aa9",
   "metadata": {},
   "outputs": [
    {
     "name": "stderr",
     "output_type": "stream",
     "text": [
      "100%|\u001b[32m████████████████████████████████████████████████████████████████████████████████████████████████████████████\u001b[0m| 600/600 [00:00<00:00, 35563.53it/s]\u001b[0m\n"
     ]
    },
    {
     "data": {
      "text/plain": [
       "50759"
      ]
     },
     "execution_count": 11,
     "metadata": {},
     "output_type": "execute_result"
    }
   ],
   "source": [
    "from tqdm import trange\n",
    "corpus=[]\n",
    "for i in trange(df.shape[0],ncols=150,nrows=10,colour='green',smoothing=0.8):\n",
    "    corpus+=df['Review_lists'][i]\n",
    "len(corpus)"
   ]
  },
  {
   "cell_type": "code",
   "execution_count": 12,
   "id": "47f18d5c",
   "metadata": {},
   "outputs": [
    {
     "data": {
      "text/plain": [
       "[('hotel', 1383),\n",
       " ('room', 1106),\n",
       " ('great', 575),\n",
       " ('stay', 519),\n",
       " ('nt', 479),\n",
       " ('staff', 424),\n",
       " ('seattle', 377),\n",
       " ('nice', 374),\n",
       " ('rooms', 371),\n",
       " ('good', 370)]"
      ]
     },
     "execution_count": 12,
     "metadata": {},
     "output_type": "execute_result"
    }
   ],
   "source": [
    "from collections import Counter\n",
    "mostCommon=Counter(corpus).most_common(10)\n",
    "mostCommon"
   ]
  },
  {
   "cell_type": "code",
   "execution_count": 15,
   "id": "e9da80bf",
   "metadata": {},
   "outputs": [],
   "source": [
    "words=[]\n",
    "freq=[]\n",
    "for word, count in mostCommon:\n",
    "    words.append(word)\n",
    "    freq.append(count)"
   ]
  },
  {
   "cell_type": "code",
   "execution_count": null,
   "id": "d6c07130",
   "metadata": {},
   "outputs": [],
   "source": [
    "type(freq)"
   ]
  },
  {
   "cell_type": "code",
   "execution_count": 16,
   "id": "315bf927",
   "metadata": {},
   "outputs": [
    {
     "data": {
      "image/png": "[encoded data removed]",
      "text/plain": [
       "<Figure size 640x480 with 1 Axes>"
      ]
     },
     "metadata": {},
     "output_type": "display_data"
    }
   ],
   "source": [
    "import seaborn as sns\n",
    "sns.barplot(x=freq,y=words)\n",
    "plt.title('Top 10 most frequently occuring words')\n",
    "plt.show()"
   ]
  },
  {
   "cell_type": "code",
   "execution_count": 17,
   "id": "8adc8cfa",
   "metadata": {},
   "outputs": [],
   "source": [
    "from sklearn.feature_extraction.text import CountVectorizer\n",
    "cv=CountVectorizer(ngram_range=(2,2))\n",
    "bigrams=cv.fit_transform(df['Review'])"
   ]
  },
  {
   "cell_type": "code",
   "execution_count": 18,
   "id": "6e16cac4",
   "metadata": {},
   "outputs": [],
   "source": [
    "count_values=bigrams.toarray().sum(axis=0)\n",
    "ngram_freq=pd.DataFrame(sorted([(count_values[i],k) for k,i in cv.vocabulary_.items()],reverse=True))\n",
    "ngram_freq.columns=['frequency','ngram']"
   ]
  },
  {
   "cell_type": "code",
   "execution_count": 21,
   "id": "3ee6fc30",
   "metadata": {},
   "outputs": [
    {
     "data": {
      "image/png": "[encoded data removed]",
      "text/plain": [
       "<Figure size 640x480 with 1 Axes>"
      ]
     },
     "metadata": {},
     "output_type": "display_data"
    }
   ],
   "source": [
    "import seaborn as sns\n",
    "sns.barplot(x=ngram_freq['frequency'][:10],y=ngram_freq['ngram'][:10])\n",
    "plt.title('top 10  most frequently occuring bigrams')\n",
    "plt.show()"
   ]
  },
  {
   "cell_type": "code",
   "execution_count": null,
   "id": "902ca6f9",
   "metadata": {},
   "outputs": [],
   "source": [
    "doc_trump=\"Mr. Trump became president after winning the political election.\"\n"
   ]
  },
  {
   "cell_type": "code",
   "execution_count": null,
   "id": "fda74ead",
   "metadata": {},
   "outputs": [],
   "source": [
    "from sklearn.feature_extraction.text import CountVextorizer\n",
    "import pandas as pd\n",
    "count_vect=CountVectorizer(stop_words='english')\n",
    "count_vect=CountVectorizer()\n",
    "sparse_matrix=count_vect.fit_transform(documents)\n",
    "doc_term_matrix=sparse_matrix.todense()\n",
    "df=pd.DataFrame(doc_)"
   ]
  }
 ],
 "metadata": {
  "kernelspec": {
   "display_name": "Python 3 (ipykernel)",
   "language": "python",
   "name": "python3"
  },
  "language_info": {
   "codemirror_mode": {
    "name": "ipython",
    "version": 3
   },
   "file_extension": ".py",
   "mimetype": "text/x-python",
   "name": "python",
   "nbconvert_exporter": "python",
   "pygments_lexer": "ipython3",
   "version": "3.9.13"
  }
 },
 "nbformat": 4,
 "nbformat_minor": 5
}
